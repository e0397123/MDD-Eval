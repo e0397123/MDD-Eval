{
 "cells": [
  {
   "cell_type": "code",
   "execution_count": 26,
   "metadata": {},
   "outputs": [],
   "source": [
    "import json\n",
    "import pandas as pd\n",
    "import numpy as np\n",
    "from scipy.stats import pearsonr, spearmanr\n",
    "import codecs"
   ]
  },
  {
   "cell_type": "code",
   "execution_count": 53,
   "metadata": {},
   "outputs": [],
   "source": [
    "eval_path = \"checkpoints/run_123456\"\n",
    "data_path = \"data/evaluation_data\""
   ]
  },
  {
   "cell_type": "markdown",
   "metadata": {},
   "source": [
    "## DailyDialog-Eval"
   ]
  },
  {
   "cell_type": "code",
   "execution_count": 54,
   "metadata": {
    "scrolled": true
   },
   "outputs": [],
   "source": [
    "dailydialog_zhao_eval = json.load(open('{}/dailydialog-eval.json'.format(data_path), 'r'))\n",
    "appropriateness_scores = [np.mean(item['annotations']['appropriateness']) for item in dailydialog_zhao_eval]\n",
    "machine_scores = pd.read_csv(\"{}/dailydialog_test.txt.score\".format(eval_path), sep='\\t', header=None)\n",
    "original_scores = list(machine_scores[2])\n",
    "dailydialog_pearson = pearsonr(appropriateness_scores, original_scores)[0]\n",
    "dailydialog_spearman =spearmanr(appropriateness_scores, original_scores)[0]"
   ]
  },
  {
   "cell_type": "markdown",
   "metadata": {},
   "source": [
    "## Persona-Eval"
   ]
  },
  {
   "cell_type": "code",
   "execution_count": 55,
   "metadata": {},
   "outputs": [],
   "source": [
    "persona_zhao_eval = json.load(open('{}/persona-eval.json'.format(data_path), 'r'))\n",
    "appropriateness_scores = [np.mean(item['annotations']['appropriateness']) for item in persona_zhao_eval]\n",
    "machine_scores = pd.read_csv(\"{}/persona_test.txt.score\".format(eval_path), sep='\\t', header=None)\n",
    "original_scores = list(machine_scores[2])\n",
    "persona_pearson = pearsonr(appropriateness_scores, original_scores)[0]\n",
    "persona_spearman = spearmanr(appropriateness_scores, original_scores)[0]"
   ]
  },
  {
   "cell_type": "markdown",
   "metadata": {},
   "source": [
    "## Empathetic-Eval"
   ]
  },
  {
   "cell_type": "code",
   "execution_count": 56,
   "metadata": {},
   "outputs": [],
   "source": [
    "machine_scores = pd.read_csv(\"{}/empathetic_test.txt.score\".format(eval_path), sep='\\t', header=None)\n",
    "empathetic_grade_eval = json.load(open('{}/empathetic-eval.json'.format(data_path), 'r'))\n",
    "relevance_scores = [np.mean(item['annotations']['relevance']) for item in empathetic_grade_eval]\n",
    "original_scores = list(machine_scores[2])\n",
    "empathetic_pearson = pearsonr(relevance_scores, original_scores)[0]\n",
    "empathetic_spearman = spearmanr(relevance_scores, original_scores)[0]"
   ]
  },
  {
   "cell_type": "markdown",
   "metadata": {},
   "source": [
    "## Movie-Eval"
   ]
  },
  {
   "cell_type": "code",
   "execution_count": 57,
   "metadata": {
    "scrolled": true
   },
   "outputs": [],
   "source": [
    "humod_eval = json.load(open('{}/movie-eval.json'.format(data_path), 'r'))\n",
    "relevance_scores = [np.mean(item['annotations']['relevance']) for item in humod_eval]\n",
    "machine_scores = pd.read_csv(\"{}/movie_test.txt.score\".format(eval_path), sep='\\t', header=None)\n",
    "original_scores = list(machine_scores[2])\n",
    "movie_pearson = pearsonr(relevance_scores, original_scores)[0]\n",
    "movie_spearman = spearmanr(relevance_scores, original_scores)[0]"
   ]
  },
  {
   "cell_type": "markdown",
   "metadata": {},
   "source": [
    "## Topical-Eval"
   ]
  },
  {
   "cell_type": "code",
   "execution_count": 58,
   "metadata": {},
   "outputs": [],
   "source": [
    "topical_usr_eval = json.load(open('{}/topical-eval.json'.format(data_path), 'r'))\n",
    "overall_scores = [np.mean(item['annotations']['Overall']) for item in topical_usr_eval]\n",
    "machine_scores = pd.read_csv(\"{}/topical_test.txt.score\".format(eval_path), sep='\\t', header=None)\n",
    "original_scores = list(machine_scores[2])\n",
    "topical_pearson = pearsonr(overall_scores, original_scores)[0]\n",
    "topical_spearman = spearmanr(overall_scores, original_scores)[0]"
   ]
  },
  {
   "cell_type": "markdown",
   "metadata": {},
   "source": [
    "## Twitter-Eval"
   ]
  },
  {
   "cell_type": "code",
   "execution_count": 59,
   "metadata": {},
   "outputs": [],
   "source": [
    "dstc6_eval = json.load(open('{}/twitter-eval.json'.format(data_path), 'r'))\n",
    "overall_scores = [np.mean(item['annotations']['overall']) for item in dstc6_eval]\n",
    "machine_scores = pd.read_csv(\"{}/twitter_test.txt.score\".format(eval_path), sep='\\t', header=None)\n",
    "original_scores = list(machine_scores[2])\n",
    "twitter_pearson = pearsonr(overall_scores, original_scores)[0]\n",
    "twitter_spearman = spearmanr(overall_scores, original_scores)[0]"
   ]
  },
  {
   "cell_type": "markdown",
   "metadata": {},
   "source": [
    "## Display Results"
   ]
  },
  {
   "cell_type": "code",
   "execution_count": 60,
   "metadata": {},
   "outputs": [
    {
     "name": "stdout",
     "output_type": "stream",
     "text": [
      "Pearson Correlation-------------------\n",
      "dailydialog-eval: 0.4784728726938251\n",
      "pearsona-eval: 0.5367195606372421\n",
      "topical-eval: 0.45747352246578243\n",
      "movie-eval: 0.47885848893428434\n",
      "empathetic-eval: 0.44757469869600314\n",
      "twitter-eval: 0.22713030880960522\n",
      "average: 0.4377049087061238\n",
      "Spearman Correlation-------------------\n",
      "dailydialog-eval: 0.571580485869982\n",
      "pearsona-eval: 0.6226206814690305\n",
      "topical-eval: 0.5108527999992152\n",
      "movie-eval: 0.5348361880117385\n",
      "empathetic-eval: 0.3837658913492567\n",
      "twitter-eval: 0.24708022044924793\n",
      "average: 0.47845604452474505\n"
     ]
    }
   ],
   "source": [
    "print(\"Pearson Correlation-------------------\")\n",
    "print(\"dailydialog-eval: {}\".format(dailydialog_pearson))\n",
    "print(\"pearsona-eval: {}\".format(persona_pearson))\n",
    "print(\"topical-eval: {}\".format(topical_pearson))\n",
    "print(\"movie-eval: {}\".format(movie_pearson))\n",
    "print(\"empathetic-eval: {}\".format(empathetic_pearson))\n",
    "print(\"twitter-eval: {}\".format(twitter_pearson))\n",
    "print(\"average: {}\".format(np.mean([dailydialog_pearson, persona_pearson, topical_pearson, \n",
    "                                    movie_pearson, empathetic_pearson, twitter_pearson])))\n",
    "print(\"Spearman Correlation-------------------\")\n",
    "print(\"dailydialog-eval: {}\".format(dailydialog_spearman))\n",
    "print(\"pearsona-eval: {}\".format(persona_spearman))\n",
    "print(\"topical-eval: {}\".format(topical_spearman))\n",
    "print(\"movie-eval: {}\".format(movie_spearman))\n",
    "print(\"empathetic-eval: {}\".format(empathetic_spearman))\n",
    "print(\"twitter-eval: {}\".format(twitter_spearman))\n",
    "print(\"average: {}\".format(np.mean([dailydialog_spearman, persona_spearman, topical_spearman, \n",
    "                                    movie_spearman, empathetic_spearman, twitter_spearman])))"
   ]
  },
  {
   "cell_type": "code",
   "execution_count": null,
   "metadata": {},
   "outputs": [],
   "source": []
  },
  {
   "cell_type": "code",
   "execution_count": null,
   "metadata": {},
   "outputs": [],
   "source": []
  }
 ],
 "metadata": {
  "kernelspec": {
   "display_name": "Python (huggingface)",
   "language": "python",
   "name": "huggingface"
  },
  "language_info": {
   "codemirror_mode": {
    "name": "ipython",
    "version": 3
   },
   "file_extension": ".py",
   "mimetype": "text/x-python",
   "name": "python",
   "nbconvert_exporter": "python",
   "pygments_lexer": "ipython3",
   "version": "3.7.10"
  }
 },
 "nbformat": 4,
 "nbformat_minor": 4
}
