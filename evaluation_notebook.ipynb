{
 "cells": [
  {
   "cell_type": "code",
   "execution_count": 1,
   "metadata": {},
   "outputs": [],
   "source": [
    "import json\n",
    "import pandas as pd\n",
    "import numpy as np\n",
    "from scipy.stats import pearsonr, spearmanr\n",
    "import codecs"
   ]
  },
  {
   "cell_type": "code",
   "execution_count": 19,
   "metadata": {},
   "outputs": [],
   "source": [
    "eval_path = \"checkpoints/run_123456\"\n",
    "data_path = \"data/evaluation_data\""
   ]
  },
  {
   "cell_type": "markdown",
   "metadata": {},
   "source": [
    "## DailyDialog-Eval"
   ]
  },
  {
   "cell_type": "code",
   "execution_count": 20,
   "metadata": {
    "scrolled": true
   },
   "outputs": [
    {
     "name": "stdout",
     "output_type": "stream",
     "text": [
      "0.4871343090093895\n",
      "0.5752034824533624\n"
     ]
    }
   ],
   "source": [
    "dailydialog_zhao_eval = json.load(open('{}/dailydialog-eval.json'.format(data_path), 'r'))\n",
    "appropriateness_scores = [np.mean(item['annotations']['appropriateness']) for item in dailydialog_zhao_eval]\n",
    "machine_scores = pd.read_csv(\"{}/dailydialog_test.txt.score\".format(eval_path), sep='\\t', header=None)\n",
    "original_scores = list(machine_scores[2])\n",
    "print(pearsonr(appropriateness_scores, original_scores)[0])\n",
    "print(spearmanr(appropriateness_scores, original_scores)[0])"
   ]
  },
  {
   "cell_type": "markdown",
   "metadata": {},
   "source": [
    "## Persona-Eval"
   ]
  },
  {
   "cell_type": "code",
   "execution_count": 21,
   "metadata": {},
   "outputs": [
    {
     "name": "stdout",
     "output_type": "stream",
     "text": [
      "0.5432850985541356\n",
      "0.6148244399739622\n"
     ]
    }
   ],
   "source": [
    "persona_zhao_eval = json.load(open('{}/persona-eval.json'.format(data_path), 'r'))\n",
    "appropriateness_scores = [np.mean(item['annotations']['appropriateness']) for item in persona_zhao_eval]\n",
    "machine_scores = pd.read_csv(\"{}/persona_test.txt.score\".format(eval_path), sep='\\t', header=None)\n",
    "original_scores = list(machine_scores[2])\n",
    "print(pearsonr(appropriateness_scores, original_scores)[0])\n",
    "print(spearmanr(appropriateness_scores, original_scores)[0])"
   ]
  },
  {
   "cell_type": "markdown",
   "metadata": {},
   "source": [
    "## Empathetic-Eval"
   ]
  },
  {
   "cell_type": "code",
   "execution_count": 22,
   "metadata": {},
   "outputs": [
    {
     "name": "stdout",
     "output_type": "stream",
     "text": [
      "0.4363141672929449\n",
      "0.3633373085728696\n"
     ]
    }
   ],
   "source": [
    "machine_scores = pd.read_csv(\"{}/empathetic_test.txt.score\".format(eval_path), sep='\\t', header=None)\n",
    "empathetic_grade_eval = json.load(open('{}/empathetic-eval.json'.format(data_path), 'r'))\n",
    "relevance_scores = [np.mean(item['annotations']['relevance']) for item in empathetic_grade_eval]\n",
    "original_scores = list(machine_scores[2])\n",
    "print(pearsonr(relevance_scores, original_scores)[0])\n",
    "print(spearmanr(relevance_scores, original_scores)[0])"
   ]
  },
  {
   "cell_type": "markdown",
   "metadata": {},
   "source": [
    "## Movie-Eval"
   ]
  },
  {
   "cell_type": "code",
   "execution_count": 23,
   "metadata": {
    "scrolled": true
   },
   "outputs": [
    {
     "name": "stdout",
     "output_type": "stream",
     "text": [
      "0.46416312979963426\n",
      "0.5254390654848455\n"
     ]
    }
   ],
   "source": [
    "humod_eval = json.load(open('{}/movie-eval.json'.format(data_path), 'r'))\n",
    "relevance_scores = [np.mean(item['annotations']['relevance']) for item in humod_eval]\n",
    "machine_scores = pd.read_csv(\"{}/movie_test.txt.score\".format(eval_path), sep='\\t', header=None)\n",
    "original_scores = list(machine_scores[2])\n",
    "print(pearsonr(relevance_scores, original_scores)[0])\n",
    "print(spearmanr(relevance_scores, original_scores)[0])"
   ]
  },
  {
   "cell_type": "markdown",
   "metadata": {},
   "source": [
    "## Topical-Eval"
   ]
  },
  {
   "cell_type": "code",
   "execution_count": 24,
   "metadata": {},
   "outputs": [
    {
     "name": "stdout",
     "output_type": "stream",
     "text": [
      "0.4726653074611099\n",
      "0.5258115125136885\n"
     ]
    }
   ],
   "source": [
    "topical_usr_eval = json.load(open('{}/topical-eval.json'.format(data_path), 'r'))\n",
    "overall_scores = [np.mean(item['annotations']['Overall']) for item in topical_usr_eval]\n",
    "machine_scores = pd.read_csv(\"{}/topical_test.txt.score\".format(eval_path), sep='\\t', header=None)\n",
    "original_scores = list(machine_scores[2])\n",
    "print(pearsonr(overall_scores, original_scores)[0])\n",
    "print(spearmanr(overall_scores, original_scores)[0])"
   ]
  },
  {
   "cell_type": "markdown",
   "metadata": {},
   "source": [
    "## Twitter-Eval"
   ]
  },
  {
   "cell_type": "code",
   "execution_count": 25,
   "metadata": {},
   "outputs": [
    {
     "name": "stdout",
     "output_type": "stream",
     "text": [
      "0.21635967516931223\n",
      "0.23541057362628984\n"
     ]
    }
   ],
   "source": [
    "dstc6_eval = json.load(open('{}/twitter-eval.json'.format(data_path), 'r'))\n",
    "overall_scores = [np.mean(item['annotations']['overall']) for item in dstc6_eval]\n",
    "machine_scores = pd.read_csv(\"{}/twitter_test.txt.score\".format(eval_path), sep='\\t', header=None)\n",
    "original_scores = list(machine_scores[2])\n",
    "print(pearsonr(overall_scores, original_scores)[0])\n",
    "print(spearmanr(overall_scores, original_scores)[0])"
   ]
  },
  {
   "cell_type": "code",
   "execution_count": null,
   "metadata": {},
   "outputs": [],
   "source": []
  }
 ],
 "metadata": {
  "kernelspec": {
   "display_name": "Python (huggingface)",
   "language": "python",
   "name": "huggingface"
  },
  "language_info": {
   "codemirror_mode": {
    "name": "ipython",
    "version": 3
   },
   "file_extension": ".py",
   "mimetype": "text/x-python",
   "name": "python",
   "nbconvert_exporter": "python",
   "pygments_lexer": "ipython3",
   "version": "3.7.10"
  }
 },
 "nbformat": 4,
 "nbformat_minor": 4
}
